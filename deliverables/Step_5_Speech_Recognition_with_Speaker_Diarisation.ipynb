{
  "nbformat": 4,
  "nbformat_minor": 0,
  "metadata": {
    "colab": {
      "provenance": [],
      "include_colab_link": true
    },
    "kernelspec": {
      "name": "python3",
      "display_name": "Python 3"
    },
    "language_info": {
      "name": "python"
    }
  },
  "cells": [
    {
      "cell_type": "markdown",
      "metadata": {
        "id": "view-in-github",
        "colab_type": "text"
      },
      "source": [
        "<a href=\"https://colab.research.google.com/github/Szozan/2d-strategic-plan/blob/main/deliverables/Step_5_Speech_Recognition_with_Speaker_Diarisation.ipynb\" target=\"_parent\"><img src=\"https://colab.research.google.com/assets/colab-badge.svg\" alt=\"Open In Colab\"/></a>"
      ]
    },
    {
      "cell_type": "markdown",
      "source": [
        "This script uses a local transcription model \"Vosk\" to ingest an MP3 file and transcribe it with speaker diarisation (labeling the speakers' names or identity). The transcript is saved as both a text file and JSON file."
      ],
      "metadata": {
        "id": "UhI9zZPu3mLJ"
      }
    },
    {
      "cell_type": "code",
      "source": [
        "# ===== SETUP =====\n",
        "print(\"Setting up the environment...\")\n",
        "import sys\n",
        "import subprocess\n",
        "\n",
        "def install(package):\n",
        "    subprocess.check_call([sys.executable, \"-m\", \"pip\", \"install\", package])\n",
        "\n",
        "# List of required packages\n",
        "required_packages = ['numpy', 'pydub', 'vosk']\n",
        "\n",
        "for package in required_packages:\n",
        "    print(f\"Installing {package}...\")\n",
        "    install(package)\n",
        "\n",
        "print(\"Setup complete. All required packages have been installed.\")\n"
      ],
      "metadata": {
        "colab": {
          "base_uri": "https://localhost:8080/"
        },
        "id": "jngHZAoSpK4b",
        "outputId": "44eb8590-8ddb-4dad-b02c-f3f61f001b0a"
      },
      "execution_count": null,
      "outputs": [
        {
          "output_type": "stream",
          "name": "stdout",
          "text": [
            "Setting up the environment...\n",
            "Installing numpy...\n",
            "Installing pydub...\n",
            "Installing vosk...\n",
            "Setup complete. All required packages have been installed.\n"
          ]
        }
      ]
    },
    {
      "cell_type": "code",
      "source": [
        "# ===== IMPORTS =====\n",
        "import json\n",
        "from collections import defaultdict\n",
        "import numpy as np\n",
        "import io\n",
        "import os\n",
        "from pydub import AudioSegment\n",
        "from vosk import Model, KaldiRecognizer, SpkModel\n",
        "\n",
        "print(\"All necessary modules imported successfully.\")"
      ],
      "metadata": {
        "colab": {
          "base_uri": "https://localhost:8080/"
        },
        "id": "FuQLjiXFqGJd",
        "outputId": "76d7fbea-f63d-420c-fb2c-061c15f9405f"
      },
      "execution_count": null,
      "outputs": [
        {
          "output_type": "stream",
          "name": "stdout",
          "text": [
            "All necessary modules imported successfully.\n"
          ]
        }
      ]
    },
    {
      "cell_type": "code",
      "source": [
        "# ===== GOOGLE DRIVE MOUNTING =====\n",
        "def mount_google_drive():\n",
        "    \"\"\"Mount Google Drive to access files stored there.\"\"\"\n",
        "    print(\"Attempting to mount Google Drive...\")\n",
        "    try:\n",
        "        from google.colab import drive\n",
        "        drive.mount('/content/drive')\n",
        "        print(\"Google Drive successfully mounted.\")\n",
        "    except ImportError:\n",
        "        print(\"Google Colab module not found. Are you running this in Google Colab?\")\n",
        "    except Exception as e:\n",
        "        print(f\"An error occurred while mounting Google Drive: {e}\")"
      ],
      "metadata": {
        "id": "ZaSRfIH2qRzS"
      },
      "execution_count": null,
      "outputs": []
    },
    {
      "cell_type": "code",
      "source": [
        "# ===== AUDIO CONVERSION =====\n",
        "def convert_mp3_to_wav(mp3_file_path, output_format=\"wav\", channels=1, frame_rate=16000):\n",
        "    \"\"\"Convert an MP3 file to WAV format suitable for transcription.\"\"\"\n",
        "    print(f\"Converting MP3 file: {mp3_file_path}\")\n",
        "    try:\n",
        "        audio = AudioSegment.from_file(mp3_file_path, format=\"mp3\")\n",
        "        audio = audio.set_channels(channels).set_frame_rate(frame_rate)\n",
        "        wav_io = io.BytesIO()\n",
        "        audio.export(wav_io, format=output_format)\n",
        "        wav_io.seek(0)\n",
        "        print(\"MP3 to WAV conversion completed.\")\n",
        "        return wav_io\n",
        "    except Exception as e:\n",
        "        print(f\"Error during MP3 to WAV conversion: {e}\")\n",
        "        return None"
      ],
      "metadata": {
        "id": "usJ5v3YRqWpl"
      },
      "execution_count": null,
      "outputs": []
    },
    {
      "cell_type": "code",
      "source": [
        "# ===== TRANSCRIPTION AND DIARIZATION =====\n",
        "def transcribe_with_diarization(wav_stream, model_path, spk_model_path, num_speakers=2):\n",
        "    print(\"Initializing speech recognition model...\")\n",
        "    try:\n",
        "        model = Model(model_path)\n",
        "        spk_model = SpkModel(spk_model_path)\n",
        "        rec = KaldiRecognizer(model, 16000)\n",
        "        rec.SetSpkModel(spk_model)\n",
        "\n",
        "        print(\"Starting transcription and diarization process...\")\n",
        "        results = []\n",
        "        total_audio_processed = 0\n",
        "        while True:\n",
        "            data = wav_stream.read(4000)\n",
        "            if len(data) == 0:\n",
        "                break\n",
        "            total_audio_processed += len(data)\n",
        "            if rec.AcceptWaveform(data):\n",
        "                result = json.loads(rec.Result())\n",
        "                print(f\"Intermediate result: {result}\")\n",
        "                results.append(result)\n",
        "\n",
        "        final_result = json.loads(rec.FinalResult())\n",
        "        print(f\"Final result: {final_result}\")\n",
        "        results.append(final_result)\n",
        "\n",
        "        print(f\"Transcription and diarization completed. Total audio processed: {total_audio_processed} bytes\")\n",
        "        print(f\"Number of results: {len(results)}\")\n",
        "        return results\n",
        "    except Exception as e:\n",
        "        print(f\"Error during transcription and diarization: {e}\")\n",
        "        return None"
      ],
      "metadata": {
        "id": "yHZ2pOkNqtG2"
      },
      "execution_count": null,
      "outputs": []
    },
    {
      "cell_type": "code",
      "source": [
        "# ===== UTTERANCE PROCESSING =====\n",
        "def cosine_similarity(a, b):\n",
        "    \"\"\"Calculate the cosine similarity between two vectors.\"\"\"\n",
        "    return np.dot(a, b) / (np.linalg.norm(a) * np.linalg.norm(b))\n",
        "\n",
        "def group_into_utterances(transcription_results, max_words_per_utterance=15):\n",
        "    print(\"Processing transcription results into utterances...\")\n",
        "    utterances = []\n",
        "    current_utterance = defaultdict(list)\n",
        "    speaker_vectors = []\n",
        "    total_words = sum(len(result['text'].split()) for result in transcription_results)\n",
        "    total_duration = 60  # Assume 60 seconds if we don't have actual duration\n",
        "    avg_word_duration = total_duration / total_words\n",
        "\n",
        "    current_time = 0\n",
        "    for result in transcription_results:\n",
        "        if 'text' in result and 'spk' in result:\n",
        "            spk_vector = np.array(result['spk'])\n",
        "\n",
        "            # Determine the speaker\n",
        "            if not speaker_vectors:\n",
        "                speaker_vectors.append(spk_vector)\n",
        "                current_speaker = \"Speaker 1\"\n",
        "            else:\n",
        "                similarity = cosine_similarity(spk_vector, speaker_vectors[0])\n",
        "                if similarity > 0.95:  # You can adjust this threshold\n",
        "                    current_speaker = \"Speaker 1\"\n",
        "                else:\n",
        "                    if len(speaker_vectors) == 1:\n",
        "                        speaker_vectors.append(spk_vector)\n",
        "                    current_speaker = \"Speaker 2\"\n",
        "\n",
        "            # Split the text into words\n",
        "            words = result['text'].split()\n",
        "\n",
        "            for word in words:\n",
        "                current_utterance['words'].append(word)\n",
        "                if not current_utterance['start']:\n",
        "                    current_utterance['start'] = current_time\n",
        "                current_time += avg_word_duration\n",
        "                current_utterance['end'] = current_time\n",
        "                current_utterance['speaker'] = current_speaker\n",
        "\n",
        "                if len(current_utterance['words']) >= max_words_per_utterance:\n",
        "                    utterances.append(dict(current_utterance))\n",
        "                    current_utterance = defaultdict(list)\n",
        "\n",
        "    # Add any remaining words as an utterance\n",
        "    if current_utterance['words']:\n",
        "        utterances.append(dict(current_utterance))\n",
        "\n",
        "    print(f\"Processed {len(utterances)} utterances.\")\n",
        "    return utterances"
      ],
      "metadata": {
        "id": "C62hTrX0quz7"
      },
      "execution_count": null,
      "outputs": []
    },
    {
      "cell_type": "code",
      "source": [
        "# ===== MAIN EXECUTION =====\n",
        "def main():\n",
        "    # Mount Google Drive\n",
        "    mount_google_drive()\n",
        "\n",
        "    # Set your file paths here with the correct paths\n",
        "    MP3_FILE_PATH = '/content/drive/MyDrive/ISEA_Test_Audio/Test_audio.mp3'\n",
        "    MODEL_PATH = '/content/drive/MyDrive/ISEA_Test_Audio/vosk-model-en-us-0.22'\n",
        "    SPK_MODEL_PATH = '/content/drive/MyDrive/ISEA_Test_Audio/vosk-model-en-us-0.22/spk_model'\n",
        "    OUTPUT_DIR = '/content/drive/MyDrive/ISEA_Test_Audio'\n",
        "\n",
        "    print(f\"\\nUsing the following paths:\")\n",
        "    print(f\"MP3 File: {MP3_FILE_PATH}\")\n",
        "    print(f\"Vosk Model: {MODEL_PATH}\")\n",
        "    print(f\"Speaker Model: {SPK_MODEL_PATH}\")\n",
        "    print(f\"Output Directory: {OUTPUT_DIR}\")\n",
        "\n",
        "    # Check if files and directories exist\n",
        "    if not os.path.exists(MP3_FILE_PATH):\n",
        "        print(f\"Error: MP3 file not found at {MP3_FILE_PATH}\")\n",
        "        return\n",
        "    if not os.path.exists(MODEL_PATH):\n",
        "        print(f\"Error: Vosk model not found at {MODEL_PATH}\")\n",
        "        return\n",
        "    if not os.path.exists(SPK_MODEL_PATH):\n",
        "        print(f\"Error: Speaker model not found at {SPK_MODEL_PATH}\")\n",
        "        return\n",
        "\n",
        "    # Create output directory if it doesn't exist\n",
        "    os.makedirs(OUTPUT_DIR, exist_ok=True)\n",
        "\n",
        "    # Convert MP3 to WAV\n",
        "    print(\"\\nStep 1: Converting MP3 to WAV\")\n",
        "    wav_stream = convert_mp3_to_wav(MP3_FILE_PATH)\n",
        "    if wav_stream is None:\n",
        "        print(\"Failed to convert MP3 to WAV. Exiting.\")\n",
        "        return\n",
        "\n",
        "    print(f\"Converted audio length: {len(wav_stream.getvalue())} bytes\")\n",
        "    if len(wav_stream.getvalue()) == 0:\n",
        "        print(\"Converted audio is empty. Check the original MP3 file.\")\n",
        "        return\n",
        "\n",
        "    # Perform transcription\n",
        "    print(\"\\nStep 2: Transcribing audio and performing speaker diarization\")\n",
        "    transcription_results = transcribe_with_diarization(wav_stream, MODEL_PATH, SPK_MODEL_PATH)\n",
        "    if transcription_results is None:\n",
        "        print(\"Transcription failed. Exiting.\")\n",
        "        return\n",
        "\n",
        "    print(f\"Number of transcription results: {len(transcription_results)}\")\n",
        "    if transcription_results:\n",
        "        print(f\"First transcription result: {transcription_results[0]}\")\n",
        "    else:\n",
        "        print(\"Transcription results are empty.\")\n",
        "        return\n",
        "\n",
        "    # Process results\n",
        "    print(\"\\nStep 3: Processing transcription results into readable utterances\")\n",
        "    utterances = group_into_utterances(transcription_results)\n",
        "    if utterances is None:\n",
        "        print(\"Utterance processing failed. Exiting.\")\n",
        "        return\n",
        "\n",
        "    print(f\"Number of utterances: {len(utterances)}\")\n",
        "    if utterances:\n",
        "        print(f\"First utterance: {utterances[0]}\")\n",
        "    else:\n",
        "        print(\"No utterances were generated.\")\n",
        "        print(\"Debug: Printing raw transcription results:\")\n",
        "        for i, result in enumerate(transcription_results):\n",
        "            print(f\"Result {i + 1}:\")\n",
        "            print(json.dumps(result, indent=2))\n",
        "        return\n",
        "\n",
        "    # Print and save the results\n",
        "    print(\"\\nStep 4: Saving results\")\n",
        "    output_text_path = os.path.join(OUTPUT_DIR, 'transcription_results.txt')\n",
        "    output_json_path = os.path.join(OUTPUT_DIR, 'transcription_results.json')\n",
        "\n",
        "    try:\n",
        "        with open(output_text_path, 'w') as f:\n",
        "            for utterance in utterances:\n",
        "                text = \" \".join(utterance['words'])\n",
        "                speaker = utterance.get('speaker', 'Unknown Speaker')\n",
        "                start_time = utterance['start']\n",
        "                end_time = utterance['end']\n",
        "                output = f\"{speaker} [{start_time:.2f}s - {end_time:.2f}s]: {text}\"\n",
        "                print(output)\n",
        "                f.write(output + '\\n')\n",
        "        print(f\"\\nResults saved to {output_text_path}\")\n",
        "\n",
        "        with open(output_json_path, 'w') as f:\n",
        "            json.dump(utterances, f, indent=2)\n",
        "        print(f\"Results also saved in JSON format to {output_json_path}\")\n",
        "\n",
        "        print(\"\\nTranscription and diarization process completed successfully!\")\n",
        "    except Exception as e:\n",
        "        print(f\"Error while saving results: {e}\")\n",
        "\n",
        "if __name__ == \"__main__\":\n",
        "    main()"
      ],
      "metadata": {
        "colab": {
          "base_uri": "https://localhost:8080/"
        },
        "id": "f3V_Z4Wsq413",
        "outputId": "0bb90c32-f163-4f3e-a46b-f8f26d4615c0"
      },
      "execution_count": null,
      "outputs": [
        {
          "output_type": "stream",
          "name": "stdout",
          "text": [
            "Attempting to mount Google Drive...\n",
            "Drive already mounted at /content/drive; to attempt to forcibly remount, call drive.mount(\"/content/drive\", force_remount=True).\n",
            "Google Drive successfully mounted.\n",
            "\n",
            "Using the following paths:\n",
            "MP3 File: /content/drive/MyDrive/ISEA_Test_Audio/Test_audio.mp3\n",
            "Vosk Model: /content/drive/MyDrive/ISEA_Test_Audio/vosk-model-en-us-0.22\n",
            "Speaker Model: /content/drive/MyDrive/ISEA_Test_Audio/vosk-model-en-us-0.22/spk_model\n",
            "Output Directory: /content/drive/MyDrive/ISEA_Test_Audio\n",
            "\n",
            "Step 1: Converting MP3 to WAV\n",
            "Converting MP3 file: /content/drive/MyDrive/ISEA_Test_Audio/Test_audio.mp3\n",
            "MP3 to WAV conversion completed.\n",
            "Converted audio length: 1081346 bytes\n",
            "\n",
            "Step 2: Transcribing audio and performing speaker diarization\n",
            "Initializing speech recognition model...\n",
            "Starting transcription and diarization process...\n",
            "Intermediate result: {'spk': [1.536778, 0.780921, 0.534482, 0.878988, -0.765632, -0.431617, 0.072102, 0.217427, 0.887421, 1.037435, 1.309376, -2.053669, -0.783862, -0.63563, 0.112073, 1.87117, -0.650664, -0.648482, -1.002829, -2.223484, -0.617799, 0.76176, 0.324212, -0.698082, 1.149125, 0.44663, -0.079927, -1.473207, 0.647514, -1.003312, -2.333766, -2.827739, -0.127239, 1.227378, -0.274653, 0.428028, 0.735694, -0.173761, -1.54978, 0.466557, -0.465282, 0.747743, 2.267855, -0.226574, -2.562489, -0.888154, 0.257146, -1.121799, -0.226512, -1.233968, 0.854174, -1.158494, -1.390177, -0.224861, 0.137965, -0.225232, 1.793424, 0.438263, 0.508278, 0.272324, 1.317647, -0.62592, -0.547826, -0.128535, -1.211709, -0.479358, 1.851602, -0.410217, -0.225643, -0.493977, 0.151648, -0.551433, 0.306503, 0.703493, -0.129166, 0.499332, -0.594098, 0.626027, 1.494807, -0.263418, -0.798446, -1.405013, -0.36517, -1.410814, 0.319053, -0.500293, -0.757487, 0.258096, -0.231947, -0.315615, 1.267169, 0.429796, 0.411577, -0.466262, 0.870866, -0.976951, -1.586243, 0.182088, -0.028276, 0.489936, -1.022788, -1.469778, 1.783987, 0.462453, 0.247055, 0.495806, -0.792608, -0.840818, 0.74478, -1.517343, -0.586032, -0.364432, 0.20105, -0.386861, 2.579906, -0.169603, -1.918532, -0.090427, -0.282595, 0.542378, -0.246683, -0.079119, 0.161474, 1.406799, 0.337388, -1.343912, -0.490674, 1.807554], 'spk_frames': 1254, 'text': 'alright so i guess my first question is could you provide me some contextual information about your engagement in teaching teacher education and educational policy for example how long have you got involved in these areas in what kind of ways in which organizations and you what rose'}\n",
            "Intermediate result: {'spk': [-0.053459, 1.368612, 3.370831, -1.245691, -1.220623, -0.667367, -0.553936, -0.652552, 1.055533, -0.937535, -0.394353, -0.702178, -0.343242, 0.501456, -0.662874, 1.715132, -0.853645, 0.930742, 0.647743, -0.896815, -1.118932, -0.498122, 1.778368, -0.456488, -0.284965, -0.182051, 0.519905, 0.681899, 0.234862, 0.439494, 0.600598, 1.104488, -0.050227, 1.808799, 0.445925, -1.268707, 1.44775, 0.259867, -0.410111, 1.431787, -0.59109, -0.376985, 1.124063, 0.48803, -2.474939, 0.133754, -0.97491, -0.061521, 0.587704, 0.381028, 1.695034, 0.191371, -1.278272, 0.724908, 1.090621, -1.799828, -0.473951, 1.284545, 0.610883, 0.051028, 0.955195, -0.396195, -0.24233, -2.099355, -1.994356, -0.117718, -0.689407, 0.258475, -0.009217, 0.678698, 0.438594, -0.107155, 1.423264, 0.430195, -0.675785, 0.032415, -1.02141, -1.208203, 0.139139, -0.369068, 0.230837, -0.440665, -0.737263, 0.00271, -0.609339, 0.693094, -2.27093, 0.277155, 0.946853, -1.648739, 1.735793, 1.752614, -0.172308, 0.382928, 0.62967, 0.445892, -0.028194, -1.199737, 0.042694, 0.983025, -0.130564, 0.323179, -0.003957, -0.744076, 0.402727, 0.57673, 0.540594, -2.631509, -0.001032, -1.142118, -1.28402, -0.860206, 0.921572, -0.520892, 1.892496, 0.262321, 0.043606, -0.333536, 0.089191, 0.519801, 1.276617, 0.824109, -1.141922, 0.9328, -0.565398, 0.345823, -2.019904, -0.962187], 'spk_frames': 426, 'text': \"sure so i've been in kind of a teacher education room for\"}\n",
            "Intermediate result: {'text': 'i'}\n",
            "Final result: {'spk': [0.377583, 1.617267, 3.19234, -1.814705, -1.706961, 0.104692, -0.713138, -0.974239, 0.448917, 0.23665, -0.426004, -0.949129, -1.306927, 0.830517, -0.64264, 1.023771, -0.561179, 1.581207, 0.182659, -0.97533, -0.575014, 0.415545, 0.681951, -1.55918, 0.540209, 0.20149, 0.361227, 0.632781, 0.171402, 0.296066, -0.135003, 0.719114, 0.146429, 1.027972, -0.268674, -1.59726, 0.135632, 0.086702, -0.552316, 1.341134, -0.16772, 0.350193, 0.840578, 0.184968, -1.72285, 0.167108, -0.456579, -0.307568, -0.308284, -0.644531, 1.140426, 0.470122, 0.126111, -0.706045, -0.571163, -1.880481, 0.540049, 1.7015, -0.344089, 1.075008, -0.403837, -1.161951, 0.525504, -1.946729, -0.915911, -0.326601, -1.646299, -1.320242, -0.384985, 0.043027, 1.546209, 0.277795, 1.322882, -0.045273, 0.811343, -0.016853, -0.430386, -0.891429, -0.238543, 1.871554, 1.220814, -0.306457, -0.497418, -0.727166, -0.97973, -0.128407, -0.989597, 0.16851, 0.668264, -1.598918, 0.236366, 0.887235, -0.089034, -0.101381, 0.281605, -0.582784, -1.668048, -1.083602, 0.115064, 2.287564, -0.62453, 0.920908, 0.253289, -0.943645, 1.079957, 1.593426, 0.165068, -1.382369, 0.355419, -1.555841, -0.043034, -0.146615, -0.445308, -0.436489, 2.937032, -0.602796, 2.877602, 0.741692, 0.189267, -0.666444, 0.329969, 0.124215, -1.138712, 0.832128, -0.334157, 1.462555, -0.285812, -0.807383], 'spk_frames': 531, 'text': 'eighteen years almost eighteen years i guess recruiting working at two different teacher preparation programs'}\n",
            "Transcription and diarization completed. Total audio processed: 1081346 bytes\n",
            "Number of results: 4\n",
            "Number of transcription results: 4\n",
            "First transcription result: {'spk': [1.536778, 0.780921, 0.534482, 0.878988, -0.765632, -0.431617, 0.072102, 0.217427, 0.887421, 1.037435, 1.309376, -2.053669, -0.783862, -0.63563, 0.112073, 1.87117, -0.650664, -0.648482, -1.002829, -2.223484, -0.617799, 0.76176, 0.324212, -0.698082, 1.149125, 0.44663, -0.079927, -1.473207, 0.647514, -1.003312, -2.333766, -2.827739, -0.127239, 1.227378, -0.274653, 0.428028, 0.735694, -0.173761, -1.54978, 0.466557, -0.465282, 0.747743, 2.267855, -0.226574, -2.562489, -0.888154, 0.257146, -1.121799, -0.226512, -1.233968, 0.854174, -1.158494, -1.390177, -0.224861, 0.137965, -0.225232, 1.793424, 0.438263, 0.508278, 0.272324, 1.317647, -0.62592, -0.547826, -0.128535, -1.211709, -0.479358, 1.851602, -0.410217, -0.225643, -0.493977, 0.151648, -0.551433, 0.306503, 0.703493, -0.129166, 0.499332, -0.594098, 0.626027, 1.494807, -0.263418, -0.798446, -1.405013, -0.36517, -1.410814, 0.319053, -0.500293, -0.757487, 0.258096, -0.231947, -0.315615, 1.267169, 0.429796, 0.411577, -0.466262, 0.870866, -0.976951, -1.586243, 0.182088, -0.028276, 0.489936, -1.022788, -1.469778, 1.783987, 0.462453, 0.247055, 0.495806, -0.792608, -0.840818, 0.74478, -1.517343, -0.586032, -0.364432, 0.20105, -0.386861, 2.579906, -0.169603, -1.918532, -0.090427, -0.282595, 0.542378, -0.246683, -0.079119, 0.161474, 1.406799, 0.337388, -1.343912, -0.490674, 1.807554], 'spk_frames': 1254, 'text': 'alright so i guess my first question is could you provide me some contextual information about your engagement in teaching teacher education and educational policy for example how long have you got involved in these areas in what kind of ways in which organizations and you what rose'}\n",
            "\n",
            "Step 3: Processing transcription results into readable utterances\n",
            "Processing transcription results into utterances...\n",
            "Processed 5 utterances.\n",
            "Number of utterances: 5\n",
            "First utterance: {'words': ['alright', 'so', 'i', 'guess', 'my', 'first', 'question', 'is', 'could', 'you', 'provide', 'me', 'some', 'contextual', 'information'], 'start': 0.7894736842105263, 'end': 11.842105263157894, 'speaker': 'Speaker 1'}\n",
            "\n",
            "Step 4: Saving results\n",
            "Speaker 1 [0.79s - 11.84s]: alright so i guess my first question is could you provide me some contextual information\n",
            "Speaker 1 [11.84s - 23.68s]: about your engagement in teaching teacher education and educational policy for example how long have\n",
            "Speaker 1 [23.68s - 35.53s]: you got involved in these areas in what kind of ways in which organizations and\n",
            "Speaker 2 [35.53s - 47.37s]: you what rose sure so i've been in kind of a teacher education room for\n",
            "Speaker 2 [47.37s - 59.21s]: eighteen years almost eighteen years i guess recruiting working at two different teacher preparation programs\n",
            "\n",
            "Results saved to /content/drive/MyDrive/ISEA_Test_Audio/transcription_results.txt\n",
            "Results also saved in JSON format to /content/drive/MyDrive/ISEA_Test_Audio/transcription_results.json\n",
            "\n",
            "Transcription and diarization process completed successfully!\n"
          ]
        }
      ]
    }
  ]
}